{
 "nbformat": 4,
 "nbformat_minor": 0,
 "metadata": {
  "colab": {
   "name": "Example2-8.ipynb",
   "provenance": [],
   "collapsed_sections": []
  },
  "kernelspec": {
   "name": "python3",
   "display_name": "Python 3"
  },
  "language_info": {
   "name": "python"
  }
 },
 "cells": [
  {
   "cell_type": "markdown",
   "source": [
    "**Inference of an unknown vector using noisy measurements**\n",
    "\n",
    "In this code, we are going to show how to infer the mean of a bivariate Gaussian distribution, given only samples of the distribution and the covariance matrix. Mathematically, we consider $N$ vector-valued observations, $x_{i}\\sim\\mathcal{N}(x_{i}\\mid\\mu,C_{x})$ with $C_{x}$, given and a Gaussian prior on the mean, $\\mu\\sim\\mathcal{N}(\\mu;\\mu_{0},C_{0})$.\n",
    "\n",
    "The purpose of the exercise is to make an inference on the mean, thus we have to calculate the posterior $p\\left(\\mu\\mid x_{1}\\cdots x_{N}\\right)$. Notice that this problem can be interpreted as the estimation of the position (the mean) of a target once we get a certain number of noisy measurements.\n",
    "\n",
    "If you have any questions, you can contact the instructor.\n",
    "\n",
    "The first thing we need to do is to import the necessary libraries. We will use numpy to generate the samples and matplotlib to plot the results. We will also use the magic command `%matplotlib inline` to show the plots in the notebook."
   ],
   "metadata": {
    "collapsed": false
   }
  },
  {
   "cell_type": "code",
   "execution_count": null,
   "outputs": [],
   "source": [
    "import numpy as np\n",
    "import matplotlib.pyplot as plt\n",
    "%matplotlib inline"
   ],
   "metadata": {
    "collapsed": false,
    "pycharm": {
     "is_executing": true
    }
   }
  },
  {
   "cell_type": "markdown",
   "source": [
    "This is an ancillary method used to plot the 95% confidence interval of the Gaussian distribution."
   ],
   "metadata": {
    "collapsed": false
   }
  },
  {
   "cell_type": "code",
   "source": [
    "# Ancillary method, used for plotting the 95% confidence interval later\n",
    "def get_elipse(covar, mean):\n",
    "    eigenval, eigenvec = np.linalg.eig(covar)\n",
    "    # Get the largest and smalles eigenvalue and eigenvector\n",
    "    largest_eigenvec = eigenvec[:, np.argmax(eigenval)]\n",
    "    largest_eigenval = np.amax(eigenval)\n",
    "    smallest_eigenvec = eigenvec[:, np.argmin(eigenval)]\n",
    "    smallest_eigenval = np.amin(eigenval)\n",
    "    angle = np.arctan2(largest_eigenvec[1], largest_eigenvec[0])\n",
    "    if angle < 0:\n",
    "        angle += 2 * np.pi  # So that the angle is between 0 and 2 * pi\n",
    "\n",
    "    chisquare_val = 2.4477  # For the 95% confidence interval\n",
    "    theta_grid = np.linspace(0, 2 * np.pi)\n",
    "    phi = angle\n",
    "    X0 = mean[0]\n",
    "    Y0 = mean[1]\n",
    "    a = chisquare_val * np.sqrt(largest_eigenval)\n",
    "    b = chisquare_val * np.sqrt(smallest_eigenval)\n",
    "\n",
    "    ellipse_x = np.vstack([a * np.cos(theta_grid), b * np.sin(theta_grid)]).T\n",
    "\n",
    "    R = np.array([[np.cos(phi), np.sin(phi)], [-np.sin(phi), np.cos(phi)]])\n",
    "\n",
    "    r_ellipse = ellipse_x @ R\n",
    "\n",
    "    return r_ellipse, X0, Y0"
   ],
   "metadata": {
    "id": "rc5U3LwsRsNc",
    "executionInfo": {
     "status": "ok",
     "timestamp": 1657620007416,
     "user_tz": -120,
     "elapsed": 8,
     "user": {
      "displayName": "Juan parras",
      "userId": "00260070411921664153"
     }
    }
   },
   "execution_count": 2,
   "outputs": []
  },
  {
   "cell_type": "markdown",
   "source": [
    "Let us start by generating the samples. We will generate the mean of the distribution from a Gaussian distribution with mean $\\left(\\frac{1}{2}, \\frac{1}{2}  \\right)$ and covariance $0.1 \\cdot C_{0}$, and then we will generate the samples from a Gaussian distribution with mean $\\mu$ and covariance $C_{x}$."
   ],
   "metadata": {
    "collapsed": false
   }
  },
  {
   "cell_type": "code",
   "execution_count": null,
   "outputs": [],
   "source": [
    "# Set the parameters\n",
    "n_samples = 100  # Number of samples we obtain\n",
    "mu_0 = np.array([0, 0]).reshape([2, 1])  # Prior mean parameter\n",
    "c_0 = np.array([[0.1, 0], [0, 0.1]])  # Prior covar parameter\n",
    "c_x = 0.01 * np.array([[2, 1], [1, 1]])  # Covariance of the samples (known to us)\n",
    "\n",
    "# Second, sample the actual mean value\n",
    "mu = np.random.multivariate_normal(mean=np.array([0.5, 0.5]), cov=0.1 * c_0, size=1).T  # Generate the mean\n",
    "# And now, generate our observable: the samples\n",
    "x = np.random.multivariate_normal(mean=np.squeeze(mu), cov=c_x, size=n_samples).T  # Values generated"
   ],
   "metadata": {
    "collapsed": false
   }
  },
  {
   "cell_type": "markdown",
   "source": [
    "In order to estimate the mean $\\mu$ using the samples $x_i$, let us remember that the product of two (or several) Gaussian distributions is:\n",
    "\n",
    "$p\\left(\\mu\\mid x_{1}\\cdots x_{N}\\right)\\propto p\\left(x_{1}\\cdots x_{N}\\mid\\mu\\right)p\\left(\\mu\\right)=\\underset{i}{\\prod}p\\left(x_{i}\\mid\\mu\\right)p\\left(\\mu\\right)=\\underset{i}{\\prod}\\frac{1}{\\sqrt{2\\pi\\det\\left(C_{x}\\right)}}\\exp\\left[-\\frac{1}{2}\\left(x_{i}-\\mu\\right)^{T}C_{x}^{-1}\\left(x_{i}-\\mu\\right)\\right]\\times\\frac{1}{\\sqrt{2\\pi\\det\\left(C_{0}\\right)}}\\exp\\left[-\\frac{1}{2}\\left(\\mu-\\mu_{0}\\right)^{T}C_{0}^{-1}\\left(\\mu-\\mu_{0}\\right)\\right]$\n",
    "\n",
    "whose characterization is known to us:\n",
    "\n",
    "$p\\left(\\mu\\mid x_{1}\\cdots x_{N}\\right)=\\mathcal{N}\\left(\\mu;\\mu_{N},C_{N}\\right) \\quad \\begin{cases}\n",
    "C_{N}^{-1}=C_{0}^{-1}+NC_{x}^{-1}\\\\\n",
    "\\mu_{N}=C_{N}\\left(C_{x}^{-1}\\underset{i}{\\sum}x_{i}+C_{0}^{-1}\\mu_{0}\\right)\n",
    "\\end{cases}$\n",
    "\n",
    "where $C_{N}$ and $\\mu_{N}$ are the covariance and mean of the posterior distribution, respectively.\n",
    "\n",
    "Thus, in order to estimate the posterior, we only need to apply these two equations as follows:"
   ],
   "metadata": {
    "collapsed": false
   }
  },
  {
   "cell_type": "code",
   "execution_count": null,
   "outputs": [],
   "source": [
    "# estimate the posterior\n",
    "c_n = np.linalg.inv(np.linalg.inv(c_0) + n_samples * np.linalg.inv(c_x))\n",
    "mu_n = c_n @ (np.linalg.inv(c_x) @ np.sum(x, axis=1).reshape([2, 1]) + np.linalg.inv(c_0) @ mu_0)"
   ],
   "metadata": {
    "collapsed": false
   }
  },
  {
   "cell_type": "markdown",
   "source": [
    "Now, we can plot the results. We will plot the samples, the actual mean and the posterior mean. We will also plot the 95% confidence interval of the prior and posterior distributions."
   ],
   "metadata": {
    "collapsed": false
   }
  },
  {
   "cell_type": "code",
   "source": [
    "# Plotting\n",
    "plt.scatter(x[0, :], x[1, :], marker='o', label='Samples')\n",
    "plt.scatter(mu[0], mu[1], marker='x', label='Actual mean')\n",
    "r_ellipse, X0, Y0 = get_elipse(c_0, mu_0)\n",
    "plt.plot(r_ellipse[:, 0] + X0, r_ellipse[:, 1] + Y0, linewidth=2, label='Prior')\n",
    "r_ellipse, X0, Y0 = get_elipse(c_n, mu_n)\n",
    "plt.plot(r_ellipse[:, 0] + X0, r_ellipse[:, 1] + Y0, linewidth=2, label='Posterior after ' + str(n_samples) + ' samples')\n",
    "plt.xlabel('Dim 1')\n",
    "plt.ylabel('Dim 2')\n",
    "plt.legend(loc='lower left')\n",
    "plt.title('Inferring the mean from noisy samples')\n",
    "plt.axis('equal')\n",
    "plt.show()"
   ],
   "metadata": {
    "colab": {
     "base_uri": "https://localhost:8080/",
     "height": 295
    },
    "id": "WMWqj-NKLDCo",
    "executionInfo": {
     "status": "ok",
     "timestamp": 1657620007416,
     "user_tz": -120,
     "elapsed": 7,
     "user": {
      "displayName": "Juan parras",
      "userId": "00260070411921664153"
     }
    },
    "outputId": "bfe17e8b-2edb-4ed2-b658-43ac7c47c5b3"
   },
   "execution_count": 3,
   "outputs": [
    {
     "output_type": "display_data",
     "data": {
      "text/plain": [
       "<Figure size 432x288 with 1 Axes>"
      ],
      "image/png": "[encoded data removed]"
     },
     "metadata": {
      "needs_background": "light"
     }
    }
   ]
  }
 ]
}
